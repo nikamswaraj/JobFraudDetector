{
 "cells": [
  {
   "cell_type": "code",
   "execution_count": 1,
   "id": "4f8ad9f8-8cc3-4f95-86b8-449fb32f3218",
   "metadata": {},
   "outputs": [
    {
     "name": "stdout",
     "output_type": "stream",
     "text": [
      "Accuracy: 0.959731543624161\n",
      "\n",
      "Classification Report:\n",
      "               precision    recall  f1-score   support\n",
      "\n",
      "           0       0.96      1.00      0.98     11906\n",
      "           1       1.00      0.17      0.30       610\n",
      "\n",
      "    accuracy                           0.96     12516\n",
      "   macro avg       0.98      0.59      0.64     12516\n",
      "weighted avg       0.96      0.96      0.95     12516\n",
      "\n"
     ]
    },
    {
     "data": {
      "image/png": "[encoded data removed]",
      "text/plain": [
       "<Figure size 640x480 with 2 Axes>"
      ]
     },
     "metadata": {},
     "output_type": "display_data"
    },
    {
     "name": "stdout",
     "output_type": "stream",
     "text": [
      "Model and vectorizer saved as 'logistic_job_fraud_model.pkl'\n",
      "✅ Raw data saved to data/raw_data.csv\n"
     ]
    }
   ],
   "source": [
    "# train_model.py\n",
    "\n",
    "import pandas as pd\n",
    "import matplotlib.pyplot as plt\n",
    "import seaborn as sns\n",
    "from sklearn.model_selection import train_test_split\n",
    "from sklearn.feature_extraction.text import TfidfVectorizer\n",
    "from sklearn.linear_model import LogisticRegression\n",
    "from sklearn.metrics import accuracy_score, classification_report, confusion_matrix\n",
    "import joblib\n",
    "\n",
    "# Load the dataset\n",
    "df = pd.read_csv(\"Job_Frauds.csv\", encoding='latin-1')  # Replace with your actual dataset name\n",
    "\n",
    "# Fill missing values\n",
    "df.fillna(\"\", inplace=True)\n",
    "\n",
    "# Combine text fields into one\n",
    "df['combined_text'] = (\n",
    "    df['Job Title'] + \" \" +\n",
    "    df['Profile'] + \" \" +\n",
    "    df['Job_Description'] + \" \" +\n",
    "    df['Requirements'] + \" \" +\n",
    "    df['Job_Benefits']\n",
    ")\n",
    "\n",
    "# Create feature and target\n",
    "X = df['combined_text']\n",
    "y = df['Fraudulent']  # 0 = Legit, 1 = Scam\n",
    "\n",
    "# Train/test split\n",
    "X_train, X_test, y_train, y_test = train_test_split(X, y, test_size=0.7, random_state=42)\n",
    "\n",
    "# TF-IDF Vectorizer\n",
    "vectorizer = TfidfVectorizer(stop_words='english', max_df=0.9)\n",
    "X_train_vec = vectorizer.fit_transform(X_train)\n",
    "X_test_vec = vectorizer.transform(X_test)\n",
    "\n",
    "# Logistic Regression model\n",
    "model = LogisticRegression(max_iter=1000)\n",
    "model.fit(X_train_vec, y_train)\n",
    "\n",
    "# Predictions & Evaluation\n",
    "y_pred = model.predict(X_test_vec)\n",
    "print(\"Accuracy:\", accuracy_score(y_test, y_pred))\n",
    "print(\"\\nClassification Report:\\n\", classification_report(y_test, y_pred))\n",
    "\n",
    "# Confusion Matrix\n",
    "conf_matrix = confusion_matrix(y_test, y_pred)\n",
    "sns.heatmap(conf_matrix, annot=True, fmt='d', cmap='Blues')\n",
    "plt.title(\"Confusion Matrix\")\n",
    "plt.xlabel(\"Predicted\")\n",
    "plt.ylabel(\"Actual\")\n",
    "plt.show()\n",
    "\n",
    "# Save the model and vectorizer\n",
    "joblib.dump((vectorizer, model), \"logistic_job_fraud_model.pkl\")\n",
    "print(\"Model and vectorizer saved as 'logistic_job_fraud_model.pkl'\")\n",
    "import os\n",
    "\n",
    "# Ensure the 'data' directory exists\n",
    "os.makedirs(\"data\", exist_ok=True)\n",
    "\n",
    "# Save raw data\n",
    "df.to_csv(\"data/raw_data.csv\", index=False)\n",
    "print(\"✅ Raw data saved to data/raw_data.csv\")\n",
    "# Save model and vectorizer\n",
    "joblib.dump((vectorizer, model), \"logistic_job_fraud_model.pkl\")\n",
    "\n",
    "# Save accuracy separately\n",
    "with open(\"data/model_accuracy.txt\", \"w\") as f:\n",
    "    f.write(f\"{accuracy_score(y_test, y_pred):.4f}\")\n",
    "\n"
   ]
  },
  {
   "cell_type": "code",
   "execution_count": 2,
   "id": "dd3196ae-281e-4108-a9db-e75b5e152fb7",
   "metadata": {},
   "outputs": [
    {
     "name": "stdout",
     "output_type": "stream",
     "text": [
      "Overwriting app.py\n"
     ]
    }
   ],
   "source": [
    "%%writefile app.py\n",
    "import streamlit as st\n",
    "import joblib\n",
    "import pandas as pd\n",
    "import seaborn as sns\n",
    "import matplotlib.pyplot as plt\n",
    "\n",
    "# Load model\n",
    "vectorizer, model = joblib.load(\"logistic_job_fraud_model.pkl\")\n",
    "\n",
    "# Sidebar\n",
    "st.sidebar.title(\"📊 Correlation Matrix\")\n",
    "\n",
    "try:\n",
    "    raw_data = pd.read_csv(\"data/raw_data.csv\")\n",
    "    st.sidebar.write(\"Raw data preview:\", raw_data.head())\n",
    "    corr = raw_data.corr(numeric_only=True)\n",
    "    fig, ax = plt.subplots(figsize=(6, 4))\n",
    "    sns.heatmap(corr, annot=True, cmap=\"coolwarm\", ax=ax)\n",
    "    st.sidebar.pyplot(fig)\n",
    "except Exception as e:\n",
    "    st.sidebar.warning(\"Couldn't load correlation matrix.\")\n",
    "\n",
    "# Main Page\n",
    "st.title(\"🛡️ Job Fraud Detector\")\n",
    "st.write(\"Paste a job ad to check if it may be fraudulent.\")\n",
    "\n",
    "text_input = st.text_area(\"Job Post Text\", height=300)\n",
    "\n",
    "if st.button(\"Analyze\"):\n",
    "    if text_input.strip():\n",
    "        tf_input = vectorizer.transform([text_input])\n",
    "        pred = model.predict(tf_input)[0]\n",
    "# Load model\n",
    "vectorizer, model = joblib.load(\"logistic_job_fraud_model.pkl\")\n",
    "\n",
    "# Load model accuracy\n",
    "try:\n",
    "    with open(\"data/model_accuracy.txt\", \"r\") as f:\n",
    "        model_accuracy = float(f.read().strip())\n",
    "except:\n",
    "    model_accuracy = None\n",
    "\n",
    "# Main Page\n",
    "\n",
    "if model_accuracy is not None:\n",
    "    st.markdown(f\"**Model Accuracy:** {model_accuracy:.2%}\")\n",
    "else:\n",
    "    st.warning(\"Model accuracy not available.\")\n",
    "\n",
    "\n",
    "\n"
   ]
  },
  {
   "cell_type": "code",
   "execution_count": null,
   "id": "76958c62-5406-4471-a6ce-4915e65eecaf",
   "metadata": {},
   "outputs": [],
   "source": [
    "!streamlit run app.py"
   ]
  },
  {
   "cell_type": "code",
   "execution_count": null,
   "id": "25a84288-2105-459f-a18d-dfd7ed9b2151",
   "metadata": {},
   "outputs": [],
   "source": []
  },
  {
   "cell_type": "code",
   "execution_count": null,
   "id": "08ce9c8e-b1ec-4e02-8c93-0a9ebdf65b78",
   "metadata": {},
   "outputs": [],
   "source": []
  },
  {
   "cell_type": "code",
   "execution_count": null,
   "id": "7ee50695-b289-4da1-ac7d-ebbaecf2501a",
   "metadata": {},
   "outputs": [],
   "source": []
  }
 ],
 "metadata": {
  "kernelspec": {
   "display_name": "Python [conda env:base] *",
   "language": "python",
   "name": "conda-base-py"
  },
  "language_info": {
   "codemirror_mode": {
    "name": "ipython",
    "version": 3
   },
   "file_extension": ".py",
   "mimetype": "text/x-python",
   "name": "python",
   "nbconvert_exporter": "python",
   "pygments_lexer": "ipython3",
   "version": "3.12.7"
  }
 },
 "nbformat": 4,
 "nbformat_minor": 5
}
