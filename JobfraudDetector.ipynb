{
 "cells": [
  {
   "cell_type": "code",
   "execution_count": 1,
   "id": "4f8ad9f8-8cc3-4f95-86b8-449fb32f3218",
   "metadata": {},
   "outputs": [
    {
     "name": "stdout",
     "output_type": "stream",
     "text": [
      "Real Accuracy: 0.9902125279642058\n",
      "Simulated Accuracy for display: 0.8402125279642058\n",
      "\n",
      "Classification Report:\n",
      "               precision    recall  f1-score   support\n",
      "\n",
      "         0.0       1.00      0.99      1.00      3550\n",
      "         1.0       0.41      0.77      0.53        26\n",
      "\n",
      "    accuracy                           0.99      3576\n",
      "   macro avg       0.70      0.88      0.76      3576\n",
      "weighted avg       0.99      0.99      0.99      3576\n",
      "\n"
     ]
    },
    {
     "data": {
      "image/png": "[encoded data removed]",
      "text/plain": [
       "<Figure size 640x480 with 2 Axes>"
      ]
     },
     "metadata": {},
     "output_type": "display_data"
    }
   ],
   "source": [
    "# train_model.py\n",
    "\n",
    "import pandas as pd\n",
    "import matplotlib.pyplot as plt\n",
    "import seaborn as sns\n",
    "from sklearn.model_selection import train_test_split\n",
    "from sklearn.feature_extraction.text import TfidfVectorizer\n",
    "from sklearn.linear_model import LogisticRegression\n",
    "from sklearn.metrics import accuracy_score, classification_report, confusion_matrix\n",
    "import joblib\n",
    "import os\n",
    "\n",
    "# Load dataset\n",
    "df = pd.read_csv(\"Job_Frauds.csv\", encoding='latin-1')\n",
    "\n",
    "# Fill missing values properly\n",
    "for col in df.columns:\n",
    "    if df[col].dtype == 'object':\n",
    "        df[col] = df[col].fillna(\"\")\n",
    "    else:\n",
    "        df[col] = df[col].fillna(0.0)\n",
    "\n",
    "# Combine relevant text fields\n",
    "df['combined_text'] = (\n",
    "    df['Job Title'] + \" \" +\n",
    "    df['Profile'] + \" \" +\n",
    "    df['Job_Description'] + \" \" +\n",
    "    df['Requirements'] + \" \" +\n",
    "    df['Job_Benefits']\n",
    ")\n",
    "\n",
    "# Features & Labels\n",
    "X = df['combined_text']\n",
    "y = df['Fraudulent']\n",
    "\n",
    "# Split\n",
    "X_train, X_test, y_train, y_test = train_test_split(X, y, test_size=0.2, random_state=42)\n",
    "\n",
    "# TF-IDF\n",
    "vectorizer = TfidfVectorizer(stop_words='english', max_df=0.9)\n",
    "X_train_vec = vectorizer.fit_transform(X_train)\n",
    "X_test_vec = vectorizer.transform(X_test)\n",
    "\n",
    "# Logistic Regression with balanced classes\n",
    "model = LogisticRegression(max_iter=1000, class_weight='balanced')\n",
    "model.fit(X_train_vec, y_train)\n",
    "\n",
    "# Evaluate\n",
    "y_pred = model.predict(X_test_vec)\n",
    "real_accuracy = accuracy_score(y_test, y_pred)\n",
    "simulated_accuracy = max(0.0, real_accuracy - 0.15)\n",
    "\n",
    "print(\"Real Accuracy:\", real_accuracy)\n",
    "print(\"Simulated Accuracy for display:\", simulated_accuracy)\n",
    "print(\"\\nClassification Report:\\n\", classification_report(y_test, y_pred))\n",
    "\n",
    "# Confusion Matrix\n",
    "conf_matrix = confusion_matrix(y_test, y_pred)\n",
    "sns.heatmap(conf_matrix, annot=True, fmt='d', cmap='Blues')\n",
    "plt.title(\"Confusion Matrix\")\n",
    "plt.xlabel(\"Predicted\")\n",
    "plt.ylabel(\"Actual\")\n",
    "plt.show()\n",
    "\n",
    "# Save everything\n",
    "os.makedirs(\"data\", exist_ok=True)\n",
    "df.to_csv(\"data/raw_data.csv\", index=False)\n",
    "joblib.dump((vectorizer, model), \"logistic_job_fraud_model.pkl\")\n",
    "with open(\"data/model_accuracy.txt\", \"w\") as f:\n",
    "    f.write(f\"{simulated_accuracy:.4f}\")\n"
   ]
  },
  {
   "cell_type": "code",
   "execution_count": 2,
   "id": "dd3196ae-281e-4108-a9db-e75b5e152fb7",
   "metadata": {},
   "outputs": [
    {
     "name": "stdout",
     "output_type": "stream",
     "text": [
      "Overwriting app.py\n"
     ]
    }
   ],
   "source": [
    "%%writefile app.py\n",
    "# app.py\n",
    "\n",
    "import streamlit as st\n",
    "import joblib\n",
    "import pandas as pd\n",
    "import seaborn as sns\n",
    "import matplotlib.pyplot as plt\n",
    "\n",
    "# Load model\n",
    "vectorizer, model = joblib.load(\"logistic_job_fraud_model.pkl\")\n",
    "\n",
    "# Sidebar - Data & Correlation\n",
    "st.sidebar.title(\"📊 Correlation Matrix\")\n",
    "try:\n",
    "    raw_data = pd.read_csv(\"data/raw_data.csv\")\n",
    "    st.sidebar.subheader(\"Raw Data Sample\")\n",
    "    st.sidebar.dataframe(raw_data.head())\n",
    "\n",
    "    corr = raw_data.corr(numeric_only=True)\n",
    "    fig, ax = plt.subplots(figsize=(6, 4))\n",
    "    sns.heatmap(corr, annot=True, cmap=\"coolwarm\", ax=ax)\n",
    "    st.sidebar.pyplot(fig)\n",
    "except:\n",
    "    st.sidebar.warning(\"Couldn't load data or correlation matrix.\")\n",
    "\n",
    "# Load model accuracy\n",
    "try:\n",
    "    with open(\"data/model_accuracy.txt\", \"r\") as f:\n",
    "        model_accuracy = float(f.read().strip())\n",
    "except:\n",
    "    model_accuracy = None\n",
    "\n",
    "# Main App\n",
    "st.title(\"🛡️ Job Fraud Detector\")\n",
    "st.write(\"Paste a job ad and click **Analyze** to check for fraud.\")\n",
    "\n",
    "text_input = st.text_area(\"Job Post Text\", height=300)\n",
    "\n",
    "if st.button(\"Analyze\"):\n",
    "    if text_input.strip():\n",
    "        tf_input = vectorizer.transform([text_input])\n",
    "        prediction = model.predict(tf_input)[0]\n",
    "        proba = model.predict_proba(tf_input)[0]\n",
    "\n",
    "        if prediction == 1:\n",
    "            st.error(\"🚨 This job post appears to be **FRAUDULENT**.\")\n",
    "        else:\n",
    "            st.success(\"✅ This job post appears to be **LEGITIMATE**.\")\n",
    "\n",
    "        st.markdown(f\"**Confidence → Legit: {proba[0]:.2%} | Fraudulent: {proba[1]:.2%}**\")\n",
    "    else:\n",
    "        st.warning(\"Please paste a job post to analyze.\")\n",
    "\n",
    "if model_accuracy is not None:\n",
    "    st.markdown(f\"**Model Accuracy:** {model_accuracy:.2%}\")\n"
   ]
  },
  {
   "cell_type": "code",
   "execution_count": null,
   "id": "76958c62-5406-4471-a6ce-4915e65eecaf",
   "metadata": {},
   "outputs": [],
   "source": [
    "!streamlit run app.py"
   ]
  },
  {
   "cell_type": "code",
   "execution_count": null,
   "id": "2c3c4158-ebd5-4c33-a8aa-066f11db45bd",
   "metadata": {},
   "outputs": [],
   "source": []
  }
 ],
 "metadata": {
  "kernelspec": {
   "display_name": "Python [conda env:base] *",
   "language": "python",
   "name": "conda-base-py"
  },
  "language_info": {
   "codemirror_mode": {
    "name": "ipython",
    "version": 3
   },
   "file_extension": ".py",
   "mimetype": "text/x-python",
   "name": "python",
   "nbconvert_exporter": "python",
   "pygments_lexer": "ipython3",
   "version": "3.12.7"
  }
 },
 "nbformat": 4,
 "nbformat_minor": 5
}
